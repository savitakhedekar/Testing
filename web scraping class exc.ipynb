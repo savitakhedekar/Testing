{
 "cells": [
  {
   "cell_type": "code",
   "execution_count": 7,
   "id": "aba7be51-efb7-4825-9c9c-39493d8e01a9",
   "metadata": {},
   "outputs": [],
   "source": [
    "import requests\n",
    "from bs4 import BeautifulSoup\n",
    "import pandas as pd"
   ]
  },
  {
   "cell_type": "code",
   "execution_count": 11,
   "id": "4d247e1c-a091-45aa-8b57-cfb0d8988521",
   "metadata": {},
   "outputs": [
    {
     "data": {
      "text/plain": [
       "<Response [200]>"
      ]
     },
     "execution_count": 11,
     "metadata": {},
     "output_type": "execute_result"
    }
   ],
   "source": [
    "url = \"https://www.gutenberg.org/ebooks/search/?sort_order=downloads\"\n",
    "response = requests.get(url)\n",
    "response"
   ]
  },
  {
   "cell_type": "code",
   "execution_count": 12,
   "id": "6ef1c307-7312-4ab3-ad81-55bf87e82298",
   "metadata": {},
   "outputs": [],
   "source": [
    "soup = BeautifulSoup(response.content)"
   ]
  },
  {
   "cell_type": "code",
   "execution_count": 13,
   "id": "71b0898b-f61a-4166-b70b-cd3123a1816b",
   "metadata": {},
   "outputs": [
    {
     "data": {
      "text/plain": [
       "[<span class=\"title\">Sort Alphabetically by Title</span>,\n",
       " <span class=\"title\">Sort by Release Date</span>,\n",
       " <span class=\"title\">Romeo and Juliet</span>,\n",
       " <span class=\"title\">Moby Dick; Or, The Whale</span>,\n",
       " <span class=\"title\">Middlemarch</span>,\n",
       " <span class=\"title\">A Room with a View</span>,\n",
       " <span class=\"title\">Pride and Prejudice</span>,\n",
       " <span class=\"title\">The Complete Works of William Shakespeare</span>,\n",
       " <span class=\"title\">Little Women; Or, Meg, Jo, Beth, and Amy</span>,\n",
       " <span class=\"title\">Across Mongolian Plains</span>,\n",
       " <span class=\"title\">The Enchanted April</span>,\n",
       " <span class=\"title\">The Blue Castle: a novel</span>,\n",
       " <span class=\"title\">The Adventures of Ferdinand Count Fathom — Complete</span>,\n",
       " <span class=\"title\">Cranford</span>,\n",
       " <span class=\"title\">The Adventures of Roderick Random</span>,\n",
       " <span class=\"title\">The Expedition of Humphry Clinker</span>,\n",
       " <span class=\"title\">History of Tom Jones, a Foundling</span>,\n",
       " <span class=\"title\">Twenty years after</span>,\n",
       " <span class=\"title\">My Life — Volume 1</span>,\n",
       " <span class=\"title\">Alice's Adventures in Wonderland</span>,\n",
       " <span class=\"title\">Frankenstein; Or, The Modern Prometheus</span>,\n",
       " <span class=\"title\">Metamorphosis</span>,\n",
       " <span class=\"title\">Crime and Punishment</span>,\n",
       " <span class=\"title\">Dracula</span>,\n",
       " <span class=\"title\">The Picture of Dorian Gray</span>,\n",
       " <span class=\"title\">The Great Gatsby</span>,\n",
       " <span class=\"title\">A Tale of Two Cities</span>]"
      ]
     },
     "execution_count": 13,
     "metadata": {},
     "output_type": "execute_result"
    }
   ],
   "source": [
    "soup.find_all(\"span\", class_= \"title\")#targetting class \"title\"\n"
   ]
  },
  {
   "cell_type": "code",
   "execution_count": 14,
   "id": "4645ed2b-8ca7-4e80-8337-a593289aada4",
   "metadata": {},
   "outputs": [
    {
     "data": {
      "text/plain": [
       "[<span class=\"title\">Romeo and Juliet</span>,\n",
       " <span class=\"title\">Moby Dick; Or, The Whale</span>,\n",
       " <span class=\"title\">Middlemarch</span>,\n",
       " <span class=\"title\">A Room with a View</span>,\n",
       " <span class=\"title\">Pride and Prejudice</span>,\n",
       " <span class=\"title\">The Complete Works of William Shakespeare</span>,\n",
       " <span class=\"title\">Little Women; Or, Meg, Jo, Beth, and Amy</span>,\n",
       " <span class=\"title\">Across Mongolian Plains</span>,\n",
       " <span class=\"title\">The Enchanted April</span>,\n",
       " <span class=\"title\">The Blue Castle: a novel</span>,\n",
       " <span class=\"title\">The Adventures of Ferdinand Count Fathom — Complete</span>,\n",
       " <span class=\"title\">Cranford</span>,\n",
       " <span class=\"title\">The Adventures of Roderick Random</span>,\n",
       " <span class=\"title\">The Expedition of Humphry Clinker</span>,\n",
       " <span class=\"title\">History of Tom Jones, a Foundling</span>,\n",
       " <span class=\"title\">Twenty years after</span>,\n",
       " <span class=\"title\">My Life — Volume 1</span>,\n",
       " <span class=\"title\">Alice's Adventures in Wonderland</span>,\n",
       " <span class=\"title\">Frankenstein; Or, The Modern Prometheus</span>,\n",
       " <span class=\"title\">Metamorphosis</span>,\n",
       " <span class=\"title\">Crime and Punishment</span>,\n",
       " <span class=\"title\">Dracula</span>,\n",
       " <span class=\"title\">The Picture of Dorian Gray</span>,\n",
       " <span class=\"title\">The Great Gatsby</span>,\n",
       " <span class=\"title\">A Tale of Two Cities</span>]"
      ]
     },
     "execution_count": 14,
     "metadata": {},
     "output_type": "execute_result"
    }
   ],
   "source": [
    "soup.select(\"Li.booklink span.title\")#name of the books"
   ]
  },
  {
   "cell_type": "code",
   "execution_count": 16,
   "id": "fd7e04dd-3094-4363-846f-cf51278a73c4",
   "metadata": {},
   "outputs": [
    {
     "data": {
      "text/plain": [
       "['Romeo and Juliet',\n",
       " 'Moby Dick; Or, The Whale',\n",
       " 'Middlemarch',\n",
       " 'A Room with a View',\n",
       " 'Pride and Prejudice',\n",
       " 'The Complete Works of William Shakespeare',\n",
       " 'Little Women; Or, Meg, Jo, Beth, and Amy',\n",
       " 'Across Mongolian Plains',\n",
       " 'The Enchanted April',\n",
       " 'The Blue Castle: a novel',\n",
       " 'The Adventures of Ferdinand Count Fathom — Complete',\n",
       " 'Cranford',\n",
       " 'The Adventures of Roderick Random',\n",
       " 'The Expedition of Humphry Clinker',\n",
       " 'History of Tom Jones, a Foundling',\n",
       " 'Twenty years after',\n",
       " 'My Life — Volume 1',\n",
       " \"Alice's Adventures in Wonderland\",\n",
       " 'Frankenstein; Or, The Modern Prometheus',\n",
       " 'Metamorphosis',\n",
       " 'Crime and Punishment',\n",
       " 'Dracula',\n",
       " 'The Picture of Dorian Gray',\n",
       " 'The Great Gatsby',\n",
       " 'A Tale of Two Cities']"
      ]
     },
     "execution_count": 16,
     "metadata": {},
     "output_type": "execute_result"
    }
   ],
   "source": [
    "spans = soup.find_all(\"span\", class_= \"title\")#retrive books titles \n",
    "book_titles = [i.text for i in spans]\n",
    "book_titles = book_titles[2:]\n",
    "book_titles "
   ]
  },
  {
   "cell_type": "code",
   "execution_count": null,
   "id": "7cf4789c-0519-44cb-91eb-7421bc6f0956",
   "metadata": {},
   "outputs": [],
   "source": [
    "spans = soup.find_all(\"span\", class_= \"title\")#retrive books titles \n",
    "book_titles = [i.text for i in spans]\n",
    "book_titles = book_titles[2:]\n",
    "book_titles "
   ]
  },
  {
   "cell_type": "code",
   "execution_count": 17,
   "id": "0bce98cd-0cba-445e-b8ca-5443f73e09b3",
   "metadata": {},
   "outputs": [],
   "source": [
    "spans2 = soup.find_all(\"span\",class_= \"subtitle\")"
   ]
  },
  {
   "cell_type": "code",
   "execution_count": 18,
   "id": "7098f2bd-1b7a-4855-b3db-0d0f2734880d",
   "metadata": {},
   "outputs": [
    {
     "data": {
      "text/plain": [
       "[<span class=\"subtitle\">William Shakespeare</span>,\n",
       " <span class=\"subtitle\">Herman Melville</span>,\n",
       " <span class=\"subtitle\">George Eliot</span>,\n",
       " <span class=\"subtitle\">E. M. Forster</span>,\n",
       " <span class=\"subtitle\">Jane Austen</span>,\n",
       " <span class=\"subtitle\">William Shakespeare</span>,\n",
       " <span class=\"subtitle\">Louisa May Alcott</span>,\n",
       " <span class=\"subtitle\">Roy Chapman Andrews</span>,\n",
       " <span class=\"subtitle\">Elizabeth Von Arnim</span>,\n",
       " <span class=\"subtitle\">L. M. Montgomery</span>,\n",
       " <span class=\"subtitle\">T. Smollett</span>,\n",
       " <span class=\"subtitle\">Elizabeth Cleghorn Gaskell</span>,\n",
       " <span class=\"subtitle\">T. Smollett</span>,\n",
       " <span class=\"subtitle\">T. Smollett</span>,\n",
       " <span class=\"subtitle\">Henry Fielding</span>,\n",
       " <span class=\"subtitle\">Alexandre Dumas and Auguste Maquet</span>,\n",
       " <span class=\"subtitle\">Richard Wagner</span>,\n",
       " <span class=\"subtitle\">Lewis Carroll</span>,\n",
       " <span class=\"subtitle\">Mary Wollstonecraft Shelley</span>,\n",
       " <span class=\"subtitle\">Franz Kafka</span>,\n",
       " <span class=\"subtitle\">Fyodor Dostoyevsky</span>,\n",
       " <span class=\"subtitle\">Bram Stoker</span>,\n",
       " <span class=\"subtitle\">Oscar Wilde</span>,\n",
       " <span class=\"subtitle\">F. Scott Fitzgerald</span>,\n",
       " <span class=\"subtitle\">Charles Dickens</span>]"
      ]
     },
     "execution_count": 18,
     "metadata": {},
     "output_type": "execute_result"
    }
   ],
   "source": [
    "spans2"
   ]
  },
  {
   "cell_type": "code",
   "execution_count": 19,
   "id": "634390b7-921b-4f09-b496-d359d8d863f3",
   "metadata": {},
   "outputs": [],
   "source": [
    "authors = [author.text for author in spans2]"
   ]
  },
  {
   "cell_type": "code",
   "execution_count": 20,
   "id": "6bd58af3-a5e3-4516-bbad-d036d6841df5",
   "metadata": {},
   "outputs": [
    {
     "data": {
      "text/plain": [
       "['William Shakespeare',\n",
       " 'Herman Melville',\n",
       " 'George Eliot',\n",
       " 'E. M. Forster',\n",
       " 'Jane Austen',\n",
       " 'William Shakespeare',\n",
       " 'Louisa May Alcott',\n",
       " 'Roy Chapman Andrews',\n",
       " 'Elizabeth Von Arnim',\n",
       " 'L. M. Montgomery',\n",
       " 'T. Smollett',\n",
       " 'Elizabeth Cleghorn Gaskell',\n",
       " 'T. Smollett',\n",
       " 'T. Smollett',\n",
       " 'Henry Fielding',\n",
       " 'Alexandre Dumas and Auguste Maquet',\n",
       " 'Richard Wagner',\n",
       " 'Lewis Carroll',\n",
       " 'Mary Wollstonecraft Shelley',\n",
       " 'Franz Kafka',\n",
       " 'Fyodor Dostoyevsky',\n",
       " 'Bram Stoker',\n",
       " 'Oscar Wilde',\n",
       " 'F. Scott Fitzgerald',\n",
       " 'Charles Dickens']"
      ]
     },
     "execution_count": 20,
     "metadata": {},
     "output_type": "execute_result"
    }
   ],
   "source": [
    "authors"
   ]
  },
  {
   "cell_type": "code",
   "execution_count": 24,
   "id": "83f4cc92-e455-4a7c-b588-1c8d8e70bd6c",
   "metadata": {},
   "outputs": [
    {
     "data": {
      "text/html": [
       "<div>\n",
       "<style scoped>\n",
       "    .dataframe tbody tr th:only-of-type {\n",
       "        vertical-align: middle;\n",
       "    }\n",
       "\n",
       "    .dataframe tbody tr th {\n",
       "        vertical-align: top;\n",
       "    }\n",
       "\n",
       "    .dataframe thead th {\n",
       "        text-align: right;\n",
       "    }\n",
       "</style>\n",
       "<table border=\"1\" class=\"dataframe\">\n",
       "  <thead>\n",
       "    <tr style=\"text-align: right;\">\n",
       "      <th></th>\n",
       "      <th>title</th>\n",
       "      <th>author</th>\n",
       "    </tr>\n",
       "  </thead>\n",
       "  <tbody>\n",
       "    <tr>\n",
       "      <th>0</th>\n",
       "      <td>Romeo and Juliet</td>\n",
       "      <td>William Shakespeare</td>\n",
       "    </tr>\n",
       "    <tr>\n",
       "      <th>1</th>\n",
       "      <td>Moby Dick; Or, The Whale</td>\n",
       "      <td>Herman Melville</td>\n",
       "    </tr>\n",
       "    <tr>\n",
       "      <th>2</th>\n",
       "      <td>Middlemarch</td>\n",
       "      <td>George Eliot</td>\n",
       "    </tr>\n",
       "    <tr>\n",
       "      <th>3</th>\n",
       "      <td>A Room with a View</td>\n",
       "      <td>E. M. Forster</td>\n",
       "    </tr>\n",
       "    <tr>\n",
       "      <th>4</th>\n",
       "      <td>Pride and Prejudice</td>\n",
       "      <td>Jane Austen</td>\n",
       "    </tr>\n",
       "  </tbody>\n",
       "</table>\n",
       "</div>"
      ],
      "text/plain": [
       "                      title               author\n",
       "0          Romeo and Juliet  William Shakespeare\n",
       "1  Moby Dick; Or, The Whale      Herman Melville\n",
       "2               Middlemarch         George Eliot\n",
       "3        A Room with a View        E. M. Forster\n",
       "4       Pride and Prejudice          Jane Austen"
      ]
     },
     "execution_count": 24,
     "metadata": {},
     "output_type": "execute_result"
    }
   ],
   "source": [
    "books_dict = {\"title\" :book_titles,\"author\": authors}#finding book and titles with author name \n",
    "books_df = pd.DataFrame(books_dict)\n",
    "books_df.head()"
   ]
  },
  {
   "cell_type": "code",
   "execution_count": null,
   "id": "167c1c13-70ed-4842-8cdc-fd9a4ac38291",
   "metadata": {},
   "outputs": [],
   "source": []
  }
 ],
 "metadata": {
  "kernelspec": {
   "display_name": "Python 3 (ipykernel)",
   "language": "python",
   "name": "python3"
  },
  "language_info": {
   "codemirror_mode": {
    "name": "ipython",
    "version": 3
   },
   "file_extension": ".py",
   "mimetype": "text/x-python",
   "name": "python",
   "nbconvert_exporter": "python",
   "pygments_lexer": "ipython3",
   "version": "3.11.7"
  }
 },
 "nbformat": 4,
 "nbformat_minor": 5
}
